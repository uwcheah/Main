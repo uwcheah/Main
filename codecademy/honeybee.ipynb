{
 "metadata": {
  "language_info": {
   "codemirror_mode": {
    "name": "ipython",
    "version": 3
   },
   "file_extension": ".py",
   "mimetype": "text/x-python",
   "name": "python",
   "nbconvert_exporter": "python",
   "pygments_lexer": "ipython3",
   "version": "3.8.5-final"
  },
  "orig_nbformat": 2,
  "kernelspec": {
   "name": "python_defaultSpec_1601855317046",
   "display_name": "Python 3.8.5 64-bit"
  }
 },
 "nbformat": 4,
 "nbformat_minor": 2,
 "cells": [
  {
   "cell_type": "code",
   "execution_count": 1,
   "metadata": {
    "tags": []
   },
   "outputs": [
    {
     "output_type": "stream",
     "name": "stderr",
     "text": "UsageError: unrecognized arguments: -inline\n"
    }
   ],
   "source": [
    "# getting our import statements\n",
    "import pandas as pd \n",
    "import numpy as np\n",
    "import matplotlib.pyplot as plt \n",
    "import seaborn as sns \n",
    "from sklearn import linear_model\n"
   ]
  },
  {
   "cell_type": "code",
   "execution_count": 4,
   "metadata": {},
   "outputs": [
    {
     "output_type": "execute_result",
     "data": {
      "text/plain": "  state    numcol  yieldpercol   totalprod      stocks  priceperlb  \\\n0    AL   16000.0           71   1136000.0    159000.0        0.72   \n1    AZ   55000.0           60   3300000.0   1485000.0        0.64   \n2    AR   53000.0           65   3445000.0   1688000.0        0.59   \n3    CA  450000.0           83  37350000.0  12326000.0        0.62   \n4    CO   27000.0           72   1944000.0   1594000.0        0.70   \n\n    prodvalue  year  \n0    818000.0  1998  \n1   2112000.0  1998  \n2   2033000.0  1998  \n3  23157000.0  1998  \n4   1361000.0  1998  ",
      "text/html": "<div>\n<style scoped>\n    .dataframe tbody tr th:only-of-type {\n        vertical-align: middle;\n    }\n\n    .dataframe tbody tr th {\n        vertical-align: top;\n    }\n\n    .dataframe thead th {\n        text-align: right;\n    }\n</style>\n<table border=\"1\" class=\"dataframe\">\n  <thead>\n    <tr style=\"text-align: right;\">\n      <th></th>\n      <th>state</th>\n      <th>numcol</th>\n      <th>yieldpercol</th>\n      <th>totalprod</th>\n      <th>stocks</th>\n      <th>priceperlb</th>\n      <th>prodvalue</th>\n      <th>year</th>\n    </tr>\n  </thead>\n  <tbody>\n    <tr>\n      <th>0</th>\n      <td>AL</td>\n      <td>16000.0</td>\n      <td>71</td>\n      <td>1136000.0</td>\n      <td>159000.0</td>\n      <td>0.72</td>\n      <td>818000.0</td>\n      <td>1998</td>\n    </tr>\n    <tr>\n      <th>1</th>\n      <td>AZ</td>\n      <td>55000.0</td>\n      <td>60</td>\n      <td>3300000.0</td>\n      <td>1485000.0</td>\n      <td>0.64</td>\n      <td>2112000.0</td>\n      <td>1998</td>\n    </tr>\n    <tr>\n      <th>2</th>\n      <td>AR</td>\n      <td>53000.0</td>\n      <td>65</td>\n      <td>3445000.0</td>\n      <td>1688000.0</td>\n      <td>0.59</td>\n      <td>2033000.0</td>\n      <td>1998</td>\n    </tr>\n    <tr>\n      <th>3</th>\n      <td>CA</td>\n      <td>450000.0</td>\n      <td>83</td>\n      <td>37350000.0</td>\n      <td>12326000.0</td>\n      <td>0.62</td>\n      <td>23157000.0</td>\n      <td>1998</td>\n    </tr>\n    <tr>\n      <th>4</th>\n      <td>CO</td>\n      <td>27000.0</td>\n      <td>72</td>\n      <td>1944000.0</td>\n      <td>1594000.0</td>\n      <td>0.70</td>\n      <td>1361000.0</td>\n      <td>1998</td>\n    </tr>\n  </tbody>\n</table>\n</div>"
     },
     "metadata": {},
     "execution_count": 4
    }
   ],
   "source": [
    "# we downloaded this stupid file from that idiotic website becuase their api is useless\n",
    "df = pd.read_csv(\"C:/Users/nowuc/Downloads/honeyproduction.csv\")\n",
    "df.head()"
   ]
  },
  {
   "cell_type": "code",
   "execution_count": 16,
   "metadata": {
    "tags": []
   },
   "outputs": [
    {
     "output_type": "execute_result",
     "data": {
      "text/plain": "  state    numcol  yieldpercol   totalprod      stocks  priceperlb  \\\n0    AL   16000.0           71   1136000.0    159000.0        0.72   \n1    AZ   55000.0           60   3300000.0   1485000.0        0.64   \n2    AR   53000.0           65   3445000.0   1688000.0        0.59   \n3    CA  450000.0           83  37350000.0  12326000.0        0.62   \n4    CO   27000.0           72   1944000.0   1594000.0        0.70   \n\n    prodvalue  year  \n0    818000.0  1998  \n1   2112000.0  1998  \n2   2033000.0  1998  \n3  23157000.0  1998  \n4   1361000.0  1998  ",
      "text/html": "<div>\n<style scoped>\n    .dataframe tbody tr th:only-of-type {\n        vertical-align: middle;\n    }\n\n    .dataframe tbody tr th {\n        vertical-align: top;\n    }\n\n    .dataframe thead th {\n        text-align: right;\n    }\n</style>\n<table border=\"1\" class=\"dataframe\">\n  <thead>\n    <tr style=\"text-align: right;\">\n      <th></th>\n      <th>state</th>\n      <th>numcol</th>\n      <th>yieldpercol</th>\n      <th>totalprod</th>\n      <th>stocks</th>\n      <th>priceperlb</th>\n      <th>prodvalue</th>\n      <th>year</th>\n    </tr>\n  </thead>\n  <tbody>\n    <tr>\n      <th>0</th>\n      <td>AL</td>\n      <td>16000.0</td>\n      <td>71</td>\n      <td>1136000.0</td>\n      <td>159000.0</td>\n      <td>0.72</td>\n      <td>818000.0</td>\n      <td>1998</td>\n    </tr>\n    <tr>\n      <th>1</th>\n      <td>AZ</td>\n      <td>55000.0</td>\n      <td>60</td>\n      <td>3300000.0</td>\n      <td>1485000.0</td>\n      <td>0.64</td>\n      <td>2112000.0</td>\n      <td>1998</td>\n    </tr>\n    <tr>\n      <th>2</th>\n      <td>AR</td>\n      <td>53000.0</td>\n      <td>65</td>\n      <td>3445000.0</td>\n      <td>1688000.0</td>\n      <td>0.59</td>\n      <td>2033000.0</td>\n      <td>1998</td>\n    </tr>\n    <tr>\n      <th>3</th>\n      <td>CA</td>\n      <td>450000.0</td>\n      <td>83</td>\n      <td>37350000.0</td>\n      <td>12326000.0</td>\n      <td>0.62</td>\n      <td>23157000.0</td>\n      <td>1998</td>\n    </tr>\n    <tr>\n      <th>4</th>\n      <td>CO</td>\n      <td>27000.0</td>\n      <td>72</td>\n      <td>1944000.0</td>\n      <td>1594000.0</td>\n      <td>0.70</td>\n      <td>1361000.0</td>\n      <td>1998</td>\n    </tr>\n  </tbody>\n</table>\n</div>"
     },
     "metadata": {},
     "execution_count": 16
    }
   ],
   "source": [
    "df.head()"
   ]
  }
 ]
}