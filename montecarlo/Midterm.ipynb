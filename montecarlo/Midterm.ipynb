{
 "cells": [
  {
   "cell_type": "markdown",
   "metadata": {},
   "source": [
    "### Midterm\n",
    "Ui-Wing Cheah"
   ]
  },
  {
   "cell_type": "code",
   "execution_count": 1,
   "metadata": {},
   "outputs": [],
   "source": [
    "import numpy as np\n",
    "import pandas as pd\n",
    "import scipy.stats as sp\n",
    "import matplotlib.pyplot as plt\n",
    "import seaborn as sns\n",
    "%matplotlib inline\n"
   ]
  },
  {
   "cell_type": "markdown",
   "metadata": {},
   "source": [
    "##### Problem 4 Calculations"
   ]
  },
  {
   "cell_type": "code",
   "execution_count": 55,
   "metadata": {},
   "outputs": [],
   "source": [
    "Pmat = np.array([1/2,1/2,0,0,1/24,7/8,1/12,0,1/36,0,8/9,1/12,1/8,0,0,7/8]).reshape(4,4)"
   ]
  },
  {
   "cell_type": "code",
   "execution_count": 56,
   "metadata": {},
   "outputs": [
    {
     "data": {
      "text/plain": [
       "array([[0.1       , 0.39999995, 0.30000001, 0.20000003],\n",
       "       [0.1       , 0.39999997, 0.3       , 0.20000003],\n",
       "       [0.1       , 0.40000005, 0.29999996, 0.19999999],\n",
       "       [0.09999999, 0.40000001, 0.30000005, 0.19999995]])"
      ]
     },
     "execution_count": 56,
     "metadata": {},
     "output_type": "execute_result"
    }
   ],
   "source": [
    "# take 100-th power of Pmat. The matrix should converge to the limiting distribution\n",
    "np.linalg.matrix_power(Pmat,100)"
   ]
  },
  {
   "cell_type": "markdown",
   "metadata": {},
   "source": [
    "#### Problem 5 Calculations"
   ]
  },
  {
   "cell_type": "code",
   "execution_count": 58,
   "metadata": {},
   "outputs": [],
   "source": [
    "# 5(a)"
   ]
  },
  {
   "cell_type": "code",
   "execution_count": 59,
   "metadata": {},
   "outputs": [],
   "source": [
    "Pmat = np.array([0.7,0.3,0.2, 0.8]).reshape(2,2)"
   ]
  },
  {
   "cell_type": "code",
   "execution_count": 60,
   "metadata": {},
   "outputs": [
    {
     "data": {
      "text/plain": [
       "array([[0.4, 0.6],\n",
       "       [0.4, 0.6]])"
      ]
     },
     "execution_count": 60,
     "metadata": {},
     "output_type": "execute_result"
    }
   ],
   "source": [
    "np.linalg.matrix_power(Pmat,100)"
   ]
  },
  {
   "cell_type": "code",
   "execution_count": 61,
   "metadata": {},
   "outputs": [],
   "source": [
    "# 5(b)"
   ]
  },
  {
   "cell_type": "code",
   "execution_count": 62,
   "metadata": {},
   "outputs": [],
   "source": [
    "Pmat = np.array([0.7,0.3,0.,0.2, 0.8,0.,0.05,0.05,0.9]).reshape(3,3)"
   ]
  },
  {
   "cell_type": "code",
   "execution_count": 63,
   "metadata": {},
   "outputs": [
    {
     "data": {
      "text/plain": [
       "array([[4.00000000e-01, 6.00000000e-01, 0.00000000e+00],\n",
       "       [4.00000000e-01, 6.00000000e-01, 0.00000000e+00],\n",
       "       [3.99990039e-01, 5.99983399e-01, 2.65613989e-05]])"
      ]
     },
     "execution_count": 63,
     "metadata": {},
     "output_type": "execute_result"
    }
   ],
   "source": [
    "np.linalg.matrix_power(Pmat,100)"
   ]
  },
  {
   "cell_type": "markdown",
   "metadata": {},
   "source": [
    "##### Problem 8"
   ]
  },
  {
   "cell_type": "code",
   "execution_count": 54,
   "metadata": {},
   "outputs": [
    {
     "data": {
      "text/plain": [
       "Text(0.5, 0, 'x')"
      ]
     },
     "execution_count": 54,
     "metadata": {},
     "output_type": "execute_result"
    },
    {
     "data": {
      "image/png": "[encoded data removed]",
      "text/plain": [
       "<Figure size 432x288 with 1 Axes>"
      ]
     },
     "metadata": {},
     "output_type": "display_data"
    }
   ],
   "source": [
    "#plot the distribution to get a sense of it\n",
    "xvals = np.linspace(0,1,100)\n",
    "ax_ =sns.lineplot(x=xvals,y=yvar)\n",
    "ax_.set_title('Probability Density Function')\n",
    "ax_.set_xlabel('x')\n",
    "ax_.set\n"
   ]
  },
  {
   "cell_type": "code",
   "execution_count": 7,
   "metadata": {},
   "outputs": [],
   "source": [
    "def accept_reject(f_pdf, g_pdf, g_gen,M=1,ndraws=100,*args,**kwargs):\n",
    "    # accept reject method\n",
    "    # f_pdf is desired pdf to sample from.\n",
    "    # g_pdf is the candidate pdf function\n",
    "    # g_gen is the function to generate a candidate value\n",
    "    # M is the scalar such that Mg(x) is always greater than or equal to f(x)\n",
    "    # for the midterm g_pdf will be uniform so this is a little overkill but \n",
    "    # better to do things compartmentalized from my experience for debugging\n",
    "    \n",
    "    sim_values = np.zeros(ndraws,)\n",
    "    sim_success = 0 \n",
    "    sim_idx = -1 #python convention\n",
    "    n_count=0    \n",
    "    while sim_success < ndraws:\n",
    "        # get candidate value\n",
    "        cand_rv = g_gen(*args,**kwargs)\n",
    "        # draw uniform random value bounded between 0 and M*cand_rand\n",
    "        unif_rv = sp.uniform.rvs(loc=0,scale=M*g_pdf(cand_rv),size=1,)        \n",
    "        # if the scaled uniform value is less than f(u) we accept it\n",
    "        if unif_rv < f_pdf(cand_rv,):\n",
    "            sim_idx +=1\n",
    "            sim_values[sim_idx]=cand_rv\n",
    "            # update the success counter\n",
    "            sim_success +=1\n",
    "    return sim_values\n"
   ]
  },
  {
   "cell_type": "code",
   "execution_count": 9,
   "metadata": {},
   "outputs": [],
   "source": [
    "# creating the pdf for desired distribution\n",
    "def f_dist(x,*args,**kwargs):\n",
    "    return 30*(pow(x,2)-2*pow(x,3)+pow(x,4))\n",
    "# candidate distribution and generator function\n",
    "# we will use uniform distributions for the midterm problem\n",
    "def g_dist(x,*args,**kwargs):\n",
    "    # get pdf value\n",
    "    return sp.uniform.pdf(x,)\n",
    "def g_get(n=1,*args,**kwargs):\n",
    "    # generate random sample\n",
    "    return sp.uniform.rvs(size=n)\n"
   ]
  },
  {
   "cell_type": "code",
   "execution_count": 10,
   "metadata": {},
   "outputs": [],
   "source": [
    "# run my coded accep-reject algorithm to get the samples\n",
    "# set M = 2 since we're using a uniform distribution as the candidate\n",
    "samples = accept_reject(f_dist,g_dist,g_get,M=2,ndraws=10000)"
   ]
  },
  {
   "cell_type": "code",
   "execution_count": 66,
   "metadata": {
    "scrolled": true
   },
   "outputs": [
    {
     "data": {
      "text/plain": [
       "<matplotlib.legend.Legend at 0x1e05f6f8780>"
      ]
     },
     "execution_count": 66,
     "metadata": {},
     "output_type": "execute_result"
    },
    {
     "data": {
      "image/png": "[encoded data removed]",
      "text/plain": [
       "<Figure size 432x288 with 1 Axes>"
      ]
     },
     "metadata": {},
     "output_type": "display_data"
    }
   ],
   "source": [
    "# use seaborn distplot - this is pretty neat\n",
    "sns.set_style('darkgrid')\n",
    "ax_ =sns.distplot(samples,kde=True)\n",
    "ax_.plot(xvals,yvar,label='Theoretical')\n",
    "ax_.set_title('Random samples from f(x)')\n",
    "ax_.set_xlabel('x')\n",
    "ax_.set_ylabel('f(x)')\n",
    "ax_.legend()"
   ]
  },
  {
   "cell_type": "code",
   "execution_count": null,
   "metadata": {},
   "outputs": [],
   "source": []
  }
 ],
 "metadata": {
  "kernelspec": {
   "display_name": "Python 3",
   "language": "python",
   "name": "python3"
  },
  "language_info": {
   "codemirror_mode": {
    "name": "ipython",
    "version": 3
   },
   "file_extension": ".py",
   "mimetype": "text/x-python",
   "name": "python",
   "nbconvert_exporter": "python",
   "pygments_lexer": "ipython3",
   "version": "3.7.1"
  }
 },
 "nbformat": 4,
 "nbformat_minor": 4
}
