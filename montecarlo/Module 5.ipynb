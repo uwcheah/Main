{
 "cells": [
  {
   "cell_type": "markdown",
   "metadata": {},
   "source": [
    "### Module 5 Assignment"
   ]
  },
  {
   "cell_type": "markdown",
   "metadata": {},
   "source": [
    "Problem 1"
   ]
  },
  {
   "cell_type": "code",
   "execution_count": 2,
   "metadata": {},
   "outputs": [],
   "source": [
    "import scipy.stats as sp\n",
    "import numpy as np\n",
    "import pandas as pd\n",
    "import matplotlib.pyplot as plt\n",
    "%matplotlib inline"
   ]
  },
  {
   "cell_type": "code",
   "execution_count": 3,
   "metadata": {},
   "outputs": [],
   "source": [
    "# creating necessary objects\n",
    "def inverse_transform(func_invcdf,nobs,*args,**kwargs):\n",
    "    # function to do the inverse transform method\n",
    "    # args and kwargs are variable inputs we can use for the input function should it be needed\n",
    "    # nobs is the number of draws\n",
    "    \n",
    "    # generate uniform random numbers\n",
    "    rand_numbers = sp.uniform.rvs(size=nobs)\n",
    "    # return the inverse cdf applied on the random numbers\n",
    "    return func_invcdf(rand_numbers,*args,**kwargs)\n",
    "\n",
    "def accept_reject(f_pdf,g_pdf,g_gen,M=1,ndraws=100,*args,**kwargs):\n",
    "    # function to do the accept reject method\n",
    "    # f_pdf is desired pdf to sample from\n",
    "    # g_pdf is the candidate pdf function\n",
    "    # g_geg is the function to generate a candidate value from distribution g_gen - we may have to use exotic densities\n",
    "    # M is the scalar such that M>=sup(f(x)/g(x)) for all x\n",
    "    \n",
    "    sim_values = np.zeros(ndraws,)\n",
    "    sim_success = 0 # python index starts at 0\n",
    "    sim_idx = -1\n",
    "    n_count=0\n",
    "    \n",
    "    while sim_success < ndraws:\n",
    "        # draw a random value from g_gen\n",
    "        cand_rv = g_gen(*args,**kwargs)\n",
    "        # draw uniform random value bounded between 0 and M*cand_rand\n",
    "        unif_rv = sp.uniform.rvs(loc=0,scale=g_pdf(cand_rv)*M,size=1,)\n",
    "        \n",
    "        if unif_rv < f_pdf(cand_rv,):\n",
    "            sim_success +=1\n",
    "            sim_idx +=1\n",
    "            sim_values[sim_idx]=cand_rv\n",
    "    return sim_values\n",
    "\n"
   ]
  },
  {
   "cell_type": "markdown",
   "metadata": {},
   "source": [
    "##### Problem 1"
   ]
  },
  {
   "cell_type": "code",
   "execution_count": 5,
   "metadata": {},
   "outputs": [],
   "source": [
    "# define the inverse cdf function for problem 1 here\n",
    "def inv_laplace(x,theta,llambda,):\n",
    "    results = theta -(1./llambda)*np.sign(x-0.5)*np.log(1-2*np.abs(x-0.5))\n",
    "    return results\n"
   ]
  },
  {
   "cell_type": "code",
   "execution_count": 7,
   "metadata": {},
   "outputs": [
    {
     "data": {
      "image/png": "[encoded data removed]",
      "text/plain": [
       "<Figure size 432x288 with 2 Axes>"
      ]
     },
     "metadata": {
      "needs_background": "light"
     },
     "output_type": "display_data"
    }
   ],
   "source": [
    "empirical = inverse_transform(inv_laplace,10000,theta=2,llambda=2)\n",
    "analytical = sp.laplace.rvs(loc=2,scale=1/2,size=10000)\n",
    "\n",
    "ax_ = plt.subplot(1,2,1)\n",
    "ax_.hist(empirical,bins=100,density=True);\n",
    "ax_.set_title('Empirical Laplace Distribution')\n",
    "ax_.set_xlim(-4,8)\n",
    "\n",
    "ax_ = plt.subplot(1,2,2)\n",
    "ax_.hist(analytical,bins=100,density=True);\n",
    "ax_.set_title('Analytical Laplace Distribution')\n",
    "ax_.set_xlim(-4,8)\n",
    "\n",
    "\n",
    "plt.tight_layout()\n",
    "plt.show()"
   ]
  },
  {
   "cell_type": "markdown",
   "metadata": {},
   "source": [
    "##### Problem 2"
   ]
  },
  {
   "cell_type": "code",
   "execution_count": 9,
   "metadata": {},
   "outputs": [],
   "source": [
    "def f_p2_pdf(x,*args,**kwargs):\n",
    "    if x>0 and x<1:\n",
    "        return 0.25\n",
    "    elif x>=1 and x<=2:\n",
    "        return x-(3/4)\n",
    "    else:\n",
    "        pass\n",
    "\n",
    "def f_p2_invcdf(u_val,*args,**kwargs):\n",
    "    x_val = np.zeros(len(u_val))\n",
    "    for iu,u_ in enumerate(u_val):\n",
    "        if u_ >0 and u_ <0.25:\n",
    "            x_val[iu]=4*u_\n",
    "        elif u_ >=0.25 and u_<=1:\n",
    "            x_val[iu]= np.sqrt(2*(u_-0.25)+1/16)+(3/4)\n",
    "    return x_val\n",
    "\n",
    "    \n",
    "def g_p2_pdf(x,*args,**kwargs):\n",
    "    return 0.5\n",
    "\n",
    "def g_p2_gen(n=1,*args,**kwargs):\n",
    "    return sp.uniform.rvs(loc=0,scale=2,size=n)\n",
    "\n",
    "\n",
    "\n"
   ]
  },
  {
   "cell_type": "code",
   "execution_count": 10,
   "metadata": {},
   "outputs": [
    {
     "data": {
      "image/png": "[encoded data removed]",
      "text/plain": [
       "<Figure size 432x288 with 2 Axes>"
      ]
     },
     "metadata": {
      "needs_background": "light"
     },
     "output_type": "display_data"
    }
   ],
   "source": [
    "# generate the empirical distributions\n",
    "emp_inv_trans = inverse_transform(f_p2_invcdf,10000,)\n",
    "emp_acc_rej = accept_reject(f_p2_pdf,g_p2_pdf,g_p2_gen,M=3,ndraws=10000)\n",
    "\n",
    "ax_ = plt.subplot(1,2,1)\n",
    "ax_.hist(emp_inv_trans,bins=50,density=True);\n",
    "ax_.set_title('Inverse Transform')\n",
    "ax_.set_xlim(-0.5,2.5)\n",
    "\n",
    "ax_ = plt.subplot(1,2,2)\n",
    "ax_.hist(emp_acc_rej,bins=50,density=True);\n",
    "ax_.set_title('Accept Reject Method')\n",
    "ax_.set_xlim(-0.5,2.5)\n",
    "\n",
    "\n",
    "plt.tight_layout()\n",
    "plt.show()\n",
    "        "
   ]
  },
  {
   "cell_type": "markdown",
   "metadata": {},
   "source": [
    "##### Problem 3"
   ]
  },
  {
   "cell_type": "code",
   "execution_count": 19,
   "metadata": {},
   "outputs": [],
   "source": [
    "# pdf we want to draw from\n",
    "def f_p3_pdf(x,*args,**kwargs):\n",
    "    if x>0 and x<1:\n",
    "        return 0.5*x\n",
    "    elif x>=1 and x<=5/2:\n",
    "        return 0.5\n",
    "    else:\n",
    "        pass\n",
    "\n",
    "# inverse cdf F^-1\n",
    "def f_p3_invcdf(u_val,*args,**kwargs):\n",
    "    x_val = np.zeros(len(u_val))\n",
    "    for iu,u_ in enumerate(u_val):\n",
    "        if u_ >0 and u_ <0.25:\n",
    "            x_val[iu]=2*np.sqrt(u_)\n",
    "        elif u_ >=0.25 and u_<=1:\n",
    "            x_val[iu]= 2*(u_-0.25)+1\n",
    "    return x_val\n",
    "\n",
    "# candidate pdf\n",
    "def g_p3_pdf(x,*args,**kwargs):\n",
    "    if x>=0 and x<=5/2:\n",
    "        return x*8/25\n",
    "    else:\n",
    "        pass\n",
    "\n",
    "# generate from candidate pdf - this uses the inverse cdf method for g(x)\n",
    "def g_p3_gen(n=1,*args,**kwargs):\n",
    "    u_rv = sp.uniform.rvs(loc=0,scale=1,size=n)\n",
    "    return 5/2*np.sqrt(u_rv)\n",
    "    \n",
    "    \n",
    "\n"
   ]
  },
  {
   "cell_type": "code",
   "execution_count": 46,
   "metadata": {},
   "outputs": [
    {
     "data": {
      "image/png": "[encoded data removed]",
      "text/plain": [
       "<Figure size 432x288 with 2 Axes>"
      ]
     },
     "metadata": {
      "needs_background": "light"
     },
     "output_type": "display_data"
    }
   ],
   "source": [
    "# generate the empirical distributions\n",
    "emp_inv_trans = inverse_transform(f_p3_invcdf,10000,)\n",
    "emp_acc_rej = accept_reject(f_p3_pdf,g_p3_pdf,g_p3_gen,M=4,ndraws=10000)\n",
    "\n",
    "ax_ = plt.subplot(1,2,1)\n",
    "ax_.hist(emp_inv_trans,bins=20,density=True);\n",
    "ax_.set_title('Inverse Transform')\n",
    "ax_.set_xlim(-0.5,2.5)\n",
    "\n",
    "ax_ = plt.subplot(1,2,2)\n",
    "ax_.hist(emp_acc_rej,bins=20,density=True);\n",
    "ax_.set_title('Accept Reject Method')\n",
    "ax_.set_xlim(-0.5,2.5)\n",
    "\n",
    "\n",
    "plt.tight_layout()\n",
    "plt.show()\n"
   ]
  },
  {
   "cell_type": "markdown",
   "metadata": {},
   "source": [
    "##### Problem 4"
   ]
  },
  {
   "cell_type": "code",
   "execution_count": 4,
   "metadata": {},
   "outputs": [],
   "source": [
    "# inverse cdf F^-1\n",
    "def f_p4_invcdf(u_val,n=10,*args,**kwargs):\n",
    "    # setting the initial probabilities\n",
    "    prob = 1/(n+1)\n",
    "    prob_vec = np.ones(n+1)*prob\n",
    "    prob_cum = prob_vec.cumsum()\n",
    "    prob_idx = np.ones(n+1)\n",
    "    \n",
    "    x_val = np.zeros(len(u_val))\n",
    "    # iterate through u_val\n",
    "    for iu,u_ in enumerate(u_val):\n",
    "        x_val[iu] = int(prob_idx[prob_cum<=u_].sum())\n",
    "    return x_val"
   ]
  },
  {
   "cell_type": "code",
   "execution_count": 5,
   "metadata": {},
   "outputs": [
    {
     "data": {
      "text/plain": [
       "<BarContainer object of 11 artists>"
      ]
     },
     "execution_count": 5,
     "metadata": {},
     "output_type": "execute_result"
    },
    {
     "data": {
      "image/png": "[encoded data removed]",
      "text/plain": [
       "<Figure size 432x288 with 1 Axes>"
      ]
     },
     "metadata": {
      "needs_background": "light"
     },
     "output_type": "display_data"
    }
   ],
   "source": [
    "# using n=N=10\n",
    "N=10\n",
    "emp_inv_trans = inverse_transform(f_p4_invcdf,10000,n=N)\n",
    "hist_data = plt.hist(emp_inv_trans,bins=N+1,density=True);\n",
    "# plot a bar plot here since the hist doesn't look great by default\n"
   ]
  },
  {
   "cell_type": "code",
   "execution_count": 6,
   "metadata": {},
   "outputs": [
    {
     "data": {
      "text/plain": [
       "<BarContainer object of 11 artists>"
      ]
     },
     "execution_count": 6,
     "metadata": {},
     "output_type": "execute_result"
    },
    {
     "data": {
      "image/png": "[encoded data removed]",
      "text/plain": [
       "<Figure size 432x288 with 1 Axes>"
      ]
     },
     "metadata": {
      "needs_background": "light"
     },
     "output_type": "display_data"
    }
   ],
   "source": [
    "ax_ = plt.gca()\n",
    "ax_.set_title('Inverse Transform Sampling of Discrete Density; n=10')\n",
    "plt.bar(x=np.arange(len(hist_data[0])),height=hist_data[0])\n"
   ]
  },
  {
   "cell_type": "code",
   "execution_count": 10,
   "metadata": {},
   "outputs": [
    {
     "data": {
      "image/png": "[encoded data removed]",
      "text/plain": [
       "<Figure size 432x288 with 1 Axes>"
      ]
     },
     "metadata": {
      "needs_background": "light"
     },
     "output_type": "display_data"
    }
   ],
   "source": [
    "N=100\n",
    "emp_inv_trans = inverse_transform(f_p4_invcdf,100000,n=N)\n",
    "hist_data = plt.hist(emp_inv_trans,bins=N+1,density=True);\n"
   ]
  },
  {
   "cell_type": "code",
   "execution_count": 11,
   "metadata": {},
   "outputs": [
    {
     "data": {
      "text/plain": [
       "<BarContainer object of 101 artists>"
      ]
     },
     "execution_count": 11,
     "metadata": {},
     "output_type": "execute_result"
    },
    {
     "data": {
      "image/png": "[encoded data removed]",
      "text/plain": [
       "<Figure size 432x288 with 1 Axes>"
      ]
     },
     "metadata": {
      "needs_background": "light"
     },
     "output_type": "display_data"
    }
   ],
   "source": [
    "ax_ = plt.gca()\n",
    "ax_.set_title('Inverse Transform Sampling of Discrete Density; n=100')\n",
    "plt.bar(x=np.arange(len(hist_data[0])),height=hist_data[0])\n"
   ]
  }
 ],
 "metadata": {
  "kernelspec": {
   "display_name": "Python 3",
   "language": "python",
   "name": "python3"
  },
  "language_info": {
   "codemirror_mode": {
    "name": "ipython",
    "version": 3
   },
   "file_extension": ".py",
   "mimetype": "text/x-python",
   "name": "python",
   "nbconvert_exporter": "python",
   "pygments_lexer": "ipython3",
   "version": "3.7.1"
  }
 },
 "nbformat": 4,
 "nbformat_minor": 4
}
