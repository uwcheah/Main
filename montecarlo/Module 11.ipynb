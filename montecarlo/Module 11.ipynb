{
 "nbformat": 4,
 "nbformat_minor": 2,
 "metadata": {
  "language_info": {
   "name": "python",
   "codemirror_mode": {
    "name": "ipython",
    "version": 3
   },
   "version": "3.7.1-final"
  },
  "orig_nbformat": 2,
  "file_extension": ".py",
  "mimetype": "text/x-python",
  "name": "python",
  "npconvert_exporter": "python",
  "pygments_lexer": "ipython3",
  "version": 3,
  "kernelspec": {
   "name": "python3",
   "display_name": "Python 3"
  }
 },
 "cells": [
  {
   "cell_type": "markdown",
   "metadata": {},
   "source": [
    "# Ui-Wing Cheah\n",
    "## EN 625.633 Module 11 Assignment"
   ]
  },
  {
   "cell_type": "code",
   "execution_count": 62,
   "metadata": {},
   "outputs": [],
   "source": [
    "# imports\n",
    "import scipy.stats as sp \n",
    "import numpy as np \n",
    "import statsmodels.api as smapi \n",
    "import pandas as pd\n",
    "import matplotlib.pyplot as plt \n",
    "import seaborn as sns\n",
    "%matplotlib inline"
   ]
  },
  {
   "cell_type": "code",
   "execution_count": 7,
   "metadata": {},
   "outputs": [
    {
     "output_type": "execute_result",
     "data": {
      "text/plain": "     R    S\n0   68   56\n1   77   62\n2  299  445\n3  220  279\n4  142  138",
      "text/html": "<div>\n<style scoped>\n    .dataframe tbody tr th:only-of-type {\n        vertical-align: middle;\n    }\n\n    .dataframe tbody tr th {\n        vertical-align: top;\n    }\n\n    .dataframe thead th {\n        text-align: right;\n    }\n</style>\n<table border=\"1\" class=\"dataframe\">\n  <thead>\n    <tr style=\"text-align: right;\">\n      <th></th>\n      <th>R</th>\n      <th>S</th>\n    </tr>\n  </thead>\n  <tbody>\n    <tr>\n      <th>0</th>\n      <td>68</td>\n      <td>56</td>\n    </tr>\n    <tr>\n      <th>1</th>\n      <td>77</td>\n      <td>62</td>\n    </tr>\n    <tr>\n      <th>2</th>\n      <td>299</td>\n      <td>445</td>\n    </tr>\n    <tr>\n      <th>3</th>\n      <td>220</td>\n      <td>279</td>\n    </tr>\n    <tr>\n      <th>4</th>\n      <td>142</td>\n      <td>138</td>\n    </tr>\n  </tbody>\n</table>\n</div>"
     },
     "metadata": {},
     "execution_count": 7
    }
   ],
   "source": [
    "# getting the salmon data\n",
    "# we take the data from the R file and put it in an Excel File\n",
    "# since the data set was small we did this manually\n",
    "# for large data sets we would parse the original R file directly\n",
    "src = 'c:/Users/nowuc/Code/data/salmon_data.xlsx'\n",
    "xl_file = pd.ExcelFile(src)\n",
    "salmon_data = xl_file.parse('salmon_data')\n",
    "salmon_data.head()"
   ]
  },
  {
   "cell_type": "code",
   "execution_count": 8,
   "metadata": {},
   "outputs": [
    {
     "output_type": "execute_result",
     "data": {
      "text/plain": "                 R           S\ncount    40.000000   40.000000\nmean    259.425000  272.850000\nstd     339.279545  129.792843\nmin      64.000000   51.000000\n25%     164.750000  172.500000\n50%     221.000000  274.500000\n75%     275.000000  393.500000\nmax    2306.000000  490.000000",
      "text/html": "<div>\n<style scoped>\n    .dataframe tbody tr th:only-of-type {\n        vertical-align: middle;\n    }\n\n    .dataframe tbody tr th {\n        vertical-align: top;\n    }\n\n    .dataframe thead th {\n        text-align: right;\n    }\n</style>\n<table border=\"1\" class=\"dataframe\">\n  <thead>\n    <tr style=\"text-align: right;\">\n      <th></th>\n      <th>R</th>\n      <th>S</th>\n    </tr>\n  </thead>\n  <tbody>\n    <tr>\n      <th>count</th>\n      <td>40.000000</td>\n      <td>40.000000</td>\n    </tr>\n    <tr>\n      <th>mean</th>\n      <td>259.425000</td>\n      <td>272.850000</td>\n    </tr>\n    <tr>\n      <th>std</th>\n      <td>339.279545</td>\n      <td>129.792843</td>\n    </tr>\n    <tr>\n      <th>min</th>\n      <td>64.000000</td>\n      <td>51.000000</td>\n    </tr>\n    <tr>\n      <th>25%</th>\n      <td>164.750000</td>\n      <td>172.500000</td>\n    </tr>\n    <tr>\n      <th>50%</th>\n      <td>221.000000</td>\n      <td>274.500000</td>\n    </tr>\n    <tr>\n      <th>75%</th>\n      <td>275.000000</td>\n      <td>393.500000</td>\n    </tr>\n    <tr>\n      <th>max</th>\n      <td>2306.000000</td>\n      <td>490.000000</td>\n    </tr>\n  </tbody>\n</table>\n</div>"
     },
     "metadata": {},
     "execution_count": 8
    }
   ],
   "source": [
    "salmon_data.describe()"
   ]
  },
  {
   "cell_type": "code",
   "execution_count": 38,
   "metadata": {},
   "outputs": [],
   "source": [
    "# set up a simple linear regression model for the whole sample. \n",
    "# show the results and also find the point where R=S\n",
    "est_sustain = lambda beta: (1-beta[1])/beta[0]\n",
    "est_R = lambda beta,S:1/(beta[0]+beta[1]/S)\n",
    "# getting the reciprocals\n",
    "x_var = 1/salmon_data['S'].values\n",
    "y_var = 1./salmon_data['R'].values\n",
    "\n",
    "x_var = smapi.add_constant(x_var)"
   ]
  },
  {
   "cell_type": "code",
   "execution_count": 24,
   "metadata": {},
   "outputs": [],
   "source": [
    "lm_1 = smapi.OLS(y_var,x_var,)\n",
    "lm_1_results = lm_1.fit()"
   ]
  },
  {
   "cell_type": "code",
   "execution_count": 22,
   "metadata": {},
   "outputs": [
    {
     "output_type": "execute_result",
     "data": {
      "text/plain": "<statsmodels.regression.linear_model.RegressionResultsWrapper at 0x2d36a6ca390>"
     },
     "metadata": {},
     "execution_count": 22
    }
   ],
   "source": [
    "lm.fit()"
   ]
  },
  {
   "cell_type": "code",
   "execution_count": 39,
   "metadata": {},
   "outputs": [
    {
     "output_type": "stream",
     "name": "stdout",
     "text": "[0.00184661 0.70810973]\n[ 69.00633518  75.37083676 290.87826857 228.06919987 143.31089837\n 285.62709485 245.91860271 113.78041589  63.56830099 232.73062479\n 258.79829655 229.48233734 242.08201958 221.79474545 216.79464458\n 147.84074607 291.48191957 176.87694738 272.70694922 123.25799104\n 280.47978246 170.35899394 243.37189792 160.83236121 265.19447295\n  66.84603843 193.96646326 285.94207049 124.9362455  278.82851398\n 221.30167496 238.14454238 205.22433877 202.47879955 223.75193645\n 300.48008884 282.75698822 303.79177786 286.25627173 205.76811948]\n"
    }
   ],
   "source": [
    "bhat = lm_1_results.params\n",
    "print(bhat)\n",
    "R_fit = est_R(bhat,salmon_data['S'].values)\n",
    "print(R_fit)"
   ]
  },
  {
   "cell_type": "code",
   "execution_count": 54,
   "metadata": {},
   "outputs": [
    {
     "output_type": "display_data",
     "data": {
      "text/plain": "<Figure size 432x288 with 1 Axes>",
      "image/svg+xml": "<?xml version=\"1.0\" encoding=\"utf-8\" standalone=\"no\"?>\r\n<!DOCTYPE svg PUBLIC \"-//W3C//DTD SVG 1.1//EN\"\r\n  \"http://www.w3.org/Graphics/SVG/1.1/DTD/svg11.dtd\">\r\n<!-- Created with matplotlib (https://matplotlib.org/) -->\r\n<svg height=\"261.130625pt\" version=\"1.1\" viewBox=\"0 0 391.638255 261.130625\" width=\"391.638255pt\" xmlns=\"http://www.w3.org/2000/svg\" xmlns:xlink=\"http://www.w3.org/1999/xlink\">\r\n <defs>\r\n  <style type=\"text/css\">\r\n*{stroke-linecap:butt;stroke-linejoin:round;}\r\n  </style>\r\n </defs>\r\n <g id=\"figure_1\">\r\n  <g id=\"patch_1\">\r\n   <path d=\"M 0 261.130625 \r\nL 391.638255 261.130625 \r\nL 391.638255 0 \r\nL 0 0 \r\nz\r\n\" style=\"fill:#ffffff;\"/>\r\n  </g>\r\n  <g id=\"axes_1\">\r\n   <g id=\"patch_2\">\r\n    <path d=\"M 49.589063 224.64 \r\nL 384.389063 224.64 \r\nL 384.389063 7.2 \r\nL 49.589063 7.2 \r\nz\r\n\" style=\"fill:#eaeaf2;\"/>\r\n   </g>\r\n   <g id=\"matplotlib.axis_1\">\r\n    <g id=\"xtick_1\">\r\n     <g id=\"line2d_1\">\r\n      <path clip-path=\"url(#p377c7fff16)\" d=\"M 98.784803 224.64 \r\nL 98.784803 7.2 \r\n\" style=\"fill:none;stroke:#ffffff;stroke-linecap:round;stroke-width:0.8;\"/>\r\n     </g>\r\n     <g id=\"text_1\">\r\n      <!-- 100 -->\r\n      <defs>\r\n       <path d=\"M 37.25 0 \r\nL 28.46875 0 \r\nL 28.46875 56 \r\nQ 25.296875 52.984375 20.140625 49.953125 \r\nQ 14.984375 46.921875 10.890625 45.40625 \r\nL 10.890625 53.90625 \r\nQ 18.265625 57.375 23.78125 62.296875 \r\nQ 29.296875 67.234375 31.59375 71.875 \r\nL 37.25 71.875 \r\nz\r\n\" id=\"ArialMT-49\"/>\r\n       <path d=\"M 4.15625 35.296875 \r\nQ 4.15625 48 6.765625 55.734375 \r\nQ 9.375 63.484375 14.515625 67.671875 \r\nQ 19.671875 71.875 27.484375 71.875 \r\nQ 33.25 71.875 37.59375 69.546875 \r\nQ 41.9375 67.234375 44.765625 62.859375 \r\nQ 47.609375 58.5 49.21875 52.21875 \r\nQ 50.828125 45.953125 50.828125 35.296875 \r\nQ 50.828125 22.703125 48.234375 14.96875 \r\nQ 45.65625 7.234375 40.5 3 \r\nQ 35.359375 -1.21875 27.484375 -1.21875 \r\nQ 17.140625 -1.21875 11.234375 6.203125 \r\nQ 4.15625 15.140625 4.15625 35.296875 \r\nz\r\nM 13.1875 35.296875 \r\nQ 13.1875 17.671875 17.3125 11.828125 \r\nQ 21.4375 6 27.484375 6 \r\nQ 33.546875 6 37.671875 11.859375 \r\nQ 41.796875 17.71875 41.796875 35.296875 \r\nQ 41.796875 52.984375 37.671875 58.78125 \r\nQ 33.546875 64.59375 27.390625 64.59375 \r\nQ 21.34375 64.59375 17.71875 59.46875 \r\nQ 13.1875 52.9375 13.1875 35.296875 \r\nz\r\n\" id=\"ArialMT-48\"/>\r\n      </defs>\r\n      <g style=\"fill:#262626;\" transform=\"translate(90.443397 238.797812)scale(0.1 -0.1)\">\r\n       <use xlink:href=\"#ArialMT-49\"/>\r\n       <use x=\"55.615234\" xlink:href=\"#ArialMT-48\"/>\r\n       <use x=\"111.230469\" xlink:href=\"#ArialMT-48\"/>\r\n      </g>\r\n     </g>\r\n    </g>\r\n    <g id=\"xtick_2\">\r\n     <g id=\"line2d_2\">\r\n      <path clip-path=\"url(#p377c7fff16)\" d=\"M 168.112815 224.64 \r\nL 168.112815 7.2 \r\n\" style=\"fill:none;stroke:#ffffff;stroke-linecap:round;stroke-width:0.8;\"/>\r\n     </g>\r\n     <g id=\"text_2\">\r\n      <!-- 200 -->\r\n      <defs>\r\n       <path d=\"M 50.34375 8.453125 \r\nL 50.34375 0 \r\nL 3.03125 0 \r\nQ 2.9375 3.171875 4.046875 6.109375 \r\nQ 5.859375 10.9375 9.828125 15.625 \r\nQ 13.8125 20.3125 21.34375 26.46875 \r\nQ 33.015625 36.03125 37.109375 41.625 \r\nQ 41.21875 47.21875 41.21875 52.203125 \r\nQ 41.21875 57.421875 37.46875 61 \r\nQ 33.734375 64.59375 27.734375 64.59375 \r\nQ 21.390625 64.59375 17.578125 60.78125 \r\nQ 13.765625 56.984375 13.71875 50.25 \r\nL 4.6875 51.171875 \r\nQ 5.609375 61.28125 11.65625 66.578125 \r\nQ 17.71875 71.875 27.9375 71.875 \r\nQ 38.234375 71.875 44.234375 66.15625 \r\nQ 50.25 60.453125 50.25 52 \r\nQ 50.25 47.703125 48.484375 43.546875 \r\nQ 46.734375 39.40625 42.65625 34.8125 \r\nQ 38.578125 30.21875 29.109375 22.21875 \r\nQ 21.1875 15.578125 18.9375 13.203125 \r\nQ 16.703125 10.84375 15.234375 8.453125 \r\nz\r\n\" id=\"ArialMT-50\"/>\r\n      </defs>\r\n      <g style=\"fill:#262626;\" transform=\"translate(159.771408 238.797812)scale(0.1 -0.1)\">\r\n       <use xlink:href=\"#ArialMT-50\"/>\r\n       <use x=\"55.615234\" xlink:href=\"#ArialMT-48\"/>\r\n       <use x=\"111.230469\" xlink:href=\"#ArialMT-48\"/>\r\n      </g>\r\n     </g>\r\n    </g>\r\n    <g id=\"xtick_3\">\r\n     <g id=\"line2d_3\">\r\n      <path clip-path=\"url(#p377c7fff16)\" d=\"M 237.440826 224.64 \r\nL 237.440826 7.2 \r\n\" style=\"fill:none;stroke:#ffffff;stroke-linecap:round;stroke-width:0.8;\"/>\r\n     </g>\r\n     <g id=\"text_3\">\r\n      <!-- 300 -->\r\n      <defs>\r\n       <path d=\"M 4.203125 18.890625 \r\nL 12.984375 20.0625 \r\nQ 14.5 12.59375 18.140625 9.296875 \r\nQ 21.78125 6 27 6 \r\nQ 33.203125 6 37.46875 10.296875 \r\nQ 41.75 14.59375 41.75 20.953125 \r\nQ 41.75 27 37.796875 30.921875 \r\nQ 33.84375 34.859375 27.734375 34.859375 \r\nQ 25.25 34.859375 21.53125 33.890625 \r\nL 22.515625 41.609375 \r\nQ 23.390625 41.5 23.921875 41.5 \r\nQ 29.546875 41.5 34.03125 44.421875 \r\nQ 38.53125 47.359375 38.53125 53.46875 \r\nQ 38.53125 58.296875 35.25 61.46875 \r\nQ 31.984375 64.65625 26.8125 64.65625 \r\nQ 21.6875 64.65625 18.265625 61.421875 \r\nQ 14.84375 58.203125 13.875 51.765625 \r\nL 5.078125 53.328125 \r\nQ 6.6875 62.15625 12.390625 67.015625 \r\nQ 18.109375 71.875 26.609375 71.875 \r\nQ 32.46875 71.875 37.390625 69.359375 \r\nQ 42.328125 66.84375 44.9375 62.5 \r\nQ 47.5625 58.15625 47.5625 53.265625 \r\nQ 47.5625 48.640625 45.0625 44.828125 \r\nQ 42.578125 41.015625 37.703125 38.765625 \r\nQ 44.046875 37.3125 47.5625 32.6875 \r\nQ 51.078125 28.078125 51.078125 21.140625 \r\nQ 51.078125 11.765625 44.234375 5.25 \r\nQ 37.40625 -1.265625 26.953125 -1.265625 \r\nQ 17.53125 -1.265625 11.296875 4.34375 \r\nQ 5.078125 9.96875 4.203125 18.890625 \r\nz\r\n\" id=\"ArialMT-51\"/>\r\n      </defs>\r\n      <g style=\"fill:#262626;\" transform=\"translate(229.09942 238.797812)scale(0.1 -0.1)\">\r\n       <use xlink:href=\"#ArialMT-51\"/>\r\n       <use x=\"55.615234\" xlink:href=\"#ArialMT-48\"/>\r\n       <use x=\"111.230469\" xlink:href=\"#ArialMT-48\"/>\r\n      </g>\r\n     </g>\r\n    </g>\r\n    <g id=\"xtick_4\">\r\n     <g id=\"line2d_4\">\r\n      <path clip-path=\"url(#p377c7fff16)\" d=\"M 306.768837 224.64 \r\nL 306.768837 7.2 \r\n\" style=\"fill:none;stroke:#ffffff;stroke-linecap:round;stroke-width:0.8;\"/>\r\n     </g>\r\n     <g id=\"text_4\">\r\n      <!-- 400 -->\r\n      <defs>\r\n       <path d=\"M 32.328125 0 \r\nL 32.328125 17.140625 \r\nL 1.265625 17.140625 \r\nL 1.265625 25.203125 \r\nL 33.9375 71.578125 \r\nL 41.109375 71.578125 \r\nL 41.109375 25.203125 \r\nL 50.78125 25.203125 \r\nL 50.78125 17.140625 \r\nL 41.109375 17.140625 \r\nL 41.109375 0 \r\nz\r\nM 32.328125 25.203125 \r\nL 32.328125 57.46875 \r\nL 9.90625 25.203125 \r\nz\r\n\" id=\"ArialMT-52\"/>\r\n      </defs>\r\n      <g style=\"fill:#262626;\" transform=\"translate(298.427431 238.797812)scale(0.1 -0.1)\">\r\n       <use xlink:href=\"#ArialMT-52\"/>\r\n       <use x=\"55.615234\" xlink:href=\"#ArialMT-48\"/>\r\n       <use x=\"111.230469\" xlink:href=\"#ArialMT-48\"/>\r\n      </g>\r\n     </g>\r\n    </g>\r\n    <g id=\"xtick_5\">\r\n     <g id=\"line2d_5\">\r\n      <path clip-path=\"url(#p377c7fff16)\" d=\"M 376.096848 224.64 \r\nL 376.096848 7.2 \r\n\" style=\"fill:none;stroke:#ffffff;stroke-linecap:round;stroke-width:0.8;\"/>\r\n     </g>\r\n     <g id=\"text_5\">\r\n      <!-- 500 -->\r\n      <defs>\r\n       <path d=\"M 4.15625 18.75 \r\nL 13.375 19.53125 \r\nQ 14.40625 12.796875 18.140625 9.390625 \r\nQ 21.875 6 27.15625 6 \r\nQ 33.5 6 37.890625 10.78125 \r\nQ 42.28125 15.578125 42.28125 23.484375 \r\nQ 42.28125 31 38.0625 35.34375 \r\nQ 33.84375 39.703125 27 39.703125 \r\nQ 22.75 39.703125 19.328125 37.765625 \r\nQ 15.921875 35.84375 13.96875 32.765625 \r\nL 5.71875 33.84375 \r\nL 12.640625 70.609375 \r\nL 48.25 70.609375 \r\nL 48.25 62.203125 \r\nL 19.671875 62.203125 \r\nL 15.828125 42.96875 \r\nQ 22.265625 47.46875 29.34375 47.46875 \r\nQ 38.71875 47.46875 45.15625 40.96875 \r\nQ 51.609375 34.46875 51.609375 24.265625 \r\nQ 51.609375 14.546875 45.953125 7.46875 \r\nQ 39.0625 -1.21875 27.15625 -1.21875 \r\nQ 17.390625 -1.21875 11.203125 4.25 \r\nQ 5.03125 9.71875 4.15625 18.75 \r\nz\r\n\" id=\"ArialMT-53\"/>\r\n      </defs>\r\n      <g style=\"fill:#262626;\" transform=\"translate(367.755442 238.797812)scale(0.1 -0.1)\">\r\n       <use xlink:href=\"#ArialMT-53\"/>\r\n       <use x=\"55.615234\" xlink:href=\"#ArialMT-48\"/>\r\n       <use x=\"111.230469\" xlink:href=\"#ArialMT-48\"/>\r\n      </g>\r\n     </g>\r\n    </g>\r\n    <g id=\"text_6\">\r\n     <!-- S -->\r\n     <defs>\r\n      <path d=\"M 4.5 23 \r\nL 13.421875 23.78125 \r\nQ 14.0625 18.40625 16.375 14.96875 \r\nQ 18.703125 11.53125 23.578125 9.40625 \r\nQ 28.46875 7.28125 34.578125 7.28125 \r\nQ 39.984375 7.28125 44.140625 8.890625 \r\nQ 48.296875 10.5 50.3125 13.296875 \r\nQ 52.34375 16.109375 52.34375 19.4375 \r\nQ 52.34375 22.796875 50.390625 25.3125 \r\nQ 48.4375 27.828125 43.953125 29.546875 \r\nQ 41.0625 30.671875 31.203125 33.03125 \r\nQ 21.34375 35.40625 17.390625 37.5 \r\nQ 12.25 40.1875 9.734375 44.15625 \r\nQ 7.234375 48.140625 7.234375 53.078125 \r\nQ 7.234375 58.5 10.296875 63.203125 \r\nQ 13.375 67.921875 19.28125 70.359375 \r\nQ 25.203125 72.796875 32.421875 72.796875 \r\nQ 40.375 72.796875 46.453125 70.234375 \r\nQ 52.546875 67.671875 55.8125 62.6875 \r\nQ 59.078125 57.71875 59.328125 51.421875 \r\nL 50.25 50.734375 \r\nQ 49.515625 57.515625 45.28125 60.984375 \r\nQ 41.0625 64.453125 32.8125 64.453125 \r\nQ 24.21875 64.453125 20.28125 61.296875 \r\nQ 16.359375 58.15625 16.359375 53.71875 \r\nQ 16.359375 49.859375 19.140625 47.359375 \r\nQ 21.875 44.875 33.421875 42.265625 \r\nQ 44.96875 39.65625 49.265625 37.703125 \r\nQ 55.515625 34.8125 58.484375 30.390625 \r\nQ 61.46875 25.984375 61.46875 20.21875 \r\nQ 61.46875 14.5 58.203125 9.4375 \r\nQ 54.9375 4.390625 48.796875 1.578125 \r\nQ 42.671875 -1.21875 35.015625 -1.21875 \r\nQ 25.296875 -1.21875 18.71875 1.609375 \r\nQ 12.15625 4.4375 8.421875 10.125 \r\nQ 4.6875 15.828125 4.5 23 \r\nz\r\n\" id=\"ArialMT-83\"/>\r\n     </defs>\r\n     <g style=\"fill:#262626;\" transform=\"translate(213.653906 251.943125)scale(0.1 -0.1)\">\r\n      <use xlink:href=\"#ArialMT-83\"/>\r\n     </g>\r\n    </g>\r\n   </g>\r\n   <g id=\"matplotlib.axis_2\">\r\n    <g id=\"ytick_1\">\r\n     <g id=\"line2d_6\">\r\n      <path clip-path=\"url(#p377c7fff16)\" d=\"M 49.589063 220.359939 \r\nL 384.389063 220.359939 \r\n\" style=\"fill:none;stroke:#ffffff;stroke-linecap:round;stroke-width:0.8;\"/>\r\n     </g>\r\n     <g id=\"text_7\">\r\n      <!-- 0 -->\r\n      <g style=\"fill:#262626;\" transform=\"translate(37.028125 223.938845)scale(0.1 -0.1)\">\r\n       <use xlink:href=\"#ArialMT-48\"/>\r\n      </g>\r\n     </g>\r\n    </g>\r\n    <g id=\"ytick_2\">\r\n     <g id=\"line2d_7\">\r\n      <path clip-path=\"url(#p377c7fff16)\" d=\"M 49.589063 176.284708 \r\nL 384.389063 176.284708 \r\n\" style=\"fill:none;stroke:#ffffff;stroke-linecap:round;stroke-width:0.8;\"/>\r\n     </g>\r\n     <g id=\"text_8\">\r\n      <!-- 500 -->\r\n      <g style=\"fill:#262626;\" transform=\"translate(25.90625 179.863614)scale(0.1 -0.1)\">\r\n       <use xlink:href=\"#ArialMT-53\"/>\r\n       <use x=\"55.615234\" xlink:href=\"#ArialMT-48\"/>\r\n       <use x=\"111.230469\" xlink:href=\"#ArialMT-48\"/>\r\n      </g>\r\n     </g>\r\n    </g>\r\n    <g id=\"ytick_3\">\r\n     <g id=\"line2d_8\">\r\n      <path clip-path=\"url(#p377c7fff16)\" d=\"M 49.589063 132.209477 \r\nL 384.389063 132.209477 \r\n\" style=\"fill:none;stroke:#ffffff;stroke-linecap:round;stroke-width:0.8;\"/>\r\n     </g>\r\n     <g id=\"text_9\">\r\n      <!-- 1000 -->\r\n      <g style=\"fill:#262626;\" transform=\"translate(20.345313 135.788383)scale(0.1 -0.1)\">\r\n       <use xlink:href=\"#ArialMT-49\"/>\r\n       <use x=\"55.615234\" xlink:href=\"#ArialMT-48\"/>\r\n       <use x=\"111.230469\" xlink:href=\"#ArialMT-48\"/>\r\n       <use x=\"166.845703\" xlink:href=\"#ArialMT-48\"/>\r\n      </g>\r\n     </g>\r\n    </g>\r\n    <g id=\"ytick_4\">\r\n     <g id=\"line2d_9\">\r\n      <path clip-path=\"url(#p377c7fff16)\" d=\"M 49.589063 88.134246 \r\nL 384.389063 88.134246 \r\n\" style=\"fill:none;stroke:#ffffff;stroke-linecap:round;stroke-width:0.8;\"/>\r\n     </g>\r\n     <g id=\"text_10\">\r\n      <!-- 1500 -->\r\n      <g style=\"fill:#262626;\" transform=\"translate(20.345313 91.713153)scale(0.1 -0.1)\">\r\n       <use xlink:href=\"#ArialMT-49\"/>\r\n       <use x=\"55.615234\" xlink:href=\"#ArialMT-53\"/>\r\n       <use x=\"111.230469\" xlink:href=\"#ArialMT-48\"/>\r\n       <use x=\"166.845703\" xlink:href=\"#ArialMT-48\"/>\r\n      </g>\r\n     </g>\r\n    </g>\r\n    <g id=\"ytick_5\">\r\n     <g id=\"line2d_10\">\r\n      <path clip-path=\"url(#p377c7fff16)\" d=\"M 49.589063 44.059015 \r\nL 384.389063 44.059015 \r\n\" style=\"fill:none;stroke:#ffffff;stroke-linecap:round;stroke-width:0.8;\"/>\r\n     </g>\r\n     <g id=\"text_11\">\r\n      <!-- 2000 -->\r\n      <g style=\"fill:#262626;\" transform=\"translate(20.345313 47.637922)scale(0.1 -0.1)\">\r\n       <use xlink:href=\"#ArialMT-50\"/>\r\n       <use x=\"55.615234\" xlink:href=\"#ArialMT-48\"/>\r\n       <use x=\"111.230469\" xlink:href=\"#ArialMT-48\"/>\r\n       <use x=\"166.845703\" xlink:href=\"#ArialMT-48\"/>\r\n      </g>\r\n     </g>\r\n    </g>\r\n    <g id=\"text_12\">\r\n     <!-- R -->\r\n     <defs>\r\n      <path d=\"M 7.859375 0 \r\nL 7.859375 71.578125 \r\nL 39.59375 71.578125 \r\nQ 49.171875 71.578125 54.140625 69.640625 \r\nQ 59.125 67.71875 62.109375 62.828125 \r\nQ 65.09375 57.953125 65.09375 52.046875 \r\nQ 65.09375 44.4375 60.15625 39.203125 \r\nQ 55.21875 33.984375 44.921875 32.5625 \r\nQ 48.6875 30.765625 50.640625 29 \r\nQ 54.78125 25.203125 58.5 19.484375 \r\nL 70.953125 0 \r\nL 59.03125 0 \r\nL 49.5625 14.890625 \r\nQ 45.40625 21.34375 42.71875 24.75 \r\nQ 40.046875 28.171875 37.921875 29.53125 \r\nQ 35.796875 30.90625 33.59375 31.453125 \r\nQ 31.984375 31.78125 28.328125 31.78125 \r\nL 17.328125 31.78125 \r\nL 17.328125 0 \r\nz\r\nM 17.328125 39.984375 \r\nL 37.703125 39.984375 \r\nQ 44.1875 39.984375 47.84375 41.328125 \r\nQ 51.515625 42.671875 53.421875 45.625 \r\nQ 55.328125 48.578125 55.328125 52.046875 \r\nQ 55.328125 57.125 51.640625 60.390625 \r\nQ 47.953125 63.671875 39.984375 63.671875 \r\nL 17.328125 63.671875 \r\nz\r\n\" id=\"ArialMT-82\"/>\r\n     </defs>\r\n     <g style=\"fill:#262626;\" transform=\"translate(14.357813 119.530937)rotate(-90)scale(0.1 -0.1)\">\r\n      <use xlink:href=\"#ArialMT-82\"/>\r\n     </g>\r\n    </g>\r\n   </g>\r\n   <g id=\"PathCollection_1\">\r\n    <defs>\r\n     <path d=\"M 0 3 \r\nC 0.795609 3 1.55874 2.683901 2.12132 2.12132 \r\nC 2.683901 1.55874 3 0.795609 3 0 \r\nC 3 -0.795609 2.683901 -1.55874 2.12132 -2.12132 \r\nC 1.55874 -2.683901 0.795609 -3 0 -3 \r\nC -0.795609 -3 -1.55874 -2.683901 -2.12132 -2.12132 \r\nC -2.683901 -1.55874 -3 -0.795609 -3 0 \r\nC -3 0.795609 -2.683901 1.55874 -2.12132 2.12132 \r\nC -1.55874 2.683901 -0.795609 3 0 3 \r\nz\r\n\" id=\"mfab3e00e67\" style=\"stroke:#ffffff;stroke-width:0.75;\"/>\r\n    </defs>\r\n    <g clip-path=\"url(#p377c7fff16)\">\r\n     <use style=\"fill:#1f77b4;stroke:#ffffff;stroke-width:0.75;\" x=\"68.280478\" xlink:href=\"#mfab3e00e67\" y=\"214.365707\"/>\r\n     <use style=\"fill:#1f77b4;stroke:#ffffff;stroke-width:0.75;\" x=\"72.440159\" xlink:href=\"#mfab3e00e67\" y=\"213.572353\"/>\r\n     <use style=\"fill:#1f77b4;stroke:#ffffff;stroke-width:0.75;\" x=\"337.966442\" xlink:href=\"#mfab3e00e67\" y=\"194.002951\"/>\r\n     <use style=\"fill:#1f77b4;stroke:#ffffff;stroke-width:0.75;\" x=\"222.881943\" xlink:href=\"#mfab3e00e67\" y=\"200.966837\"/>\r\n     <use style=\"fill:#1f77b4;stroke:#ffffff;stroke-width:0.75;\" x=\"125.129448\" xlink:href=\"#mfab3e00e67\" y=\"207.842573\"/>\r\n     <use style=\"fill:#1f77b4;stroke:#ffffff;stroke-width:0.75;\" x=\"326.18068\" xlink:href=\"#mfab3e00e67\" y=\"195.060756\"/>\r\n     <use style=\"fill:#1f77b4;stroke:#ffffff;stroke-width:0.75;\" x=\"250.613148\" xlink:href=\"#mfab3e00e67\" y=\"196.030411\"/>\r\n     <use style=\"fill:#1f77b4;stroke:#ffffff;stroke-width:0.75;\" x=\"100.171363\" xlink:href=\"#mfab3e00e67\" y=\"210.222636\"/>\r\n     <use style=\"fill:#1f77b4;stroke:#ffffff;stroke-width:0.75;\" x=\"64.814078\" xlink:href=\"#mfab3e00e67\" y=\"214.718309\"/>\r\n     <use style=\"fill:#1f77b4;stroke:#ffffff;stroke-width:0.75;\" x=\"229.814745\" xlink:href=\"#mfab3e00e67\" y=\"17.084974\"/>\r\n     <use style=\"fill:#1f77b4;stroke:#ffffff;stroke-width:0.75;\" x=\"272.798112\" xlink:href=\"#mfab3e00e67\" y=\"200.790536\"/>\r\n     <use style=\"fill:#1f77b4;stroke:#ffffff;stroke-width:0.75;\" x=\"224.961784\" xlink:href=\"#mfab3e00e67\" y=\"202.289094\"/>\r\n     <use style=\"fill:#1f77b4;stroke:#ffffff;stroke-width:0.75;\" x=\"244.373627\" xlink:href=\"#mfab3e00e67\" y=\"199.820881\"/>\r\n     <use style=\"fill:#1f77b4;stroke:#ffffff;stroke-width:0.75;\" x=\"213.869302\" xlink:href=\"#mfab3e00e67\" y=\"200.261633\"/>\r\n     <use style=\"fill:#1f77b4;stroke:#ffffff;stroke-width:0.75;\" x=\"206.936501\" xlink:href=\"#mfab3e00e67\" y=\"203.787652\"/>\r\n     <use style=\"fill:#1f77b4;stroke:#ffffff;stroke-width:0.75;\" x=\"129.289128\" xlink:href=\"#mfab3e00e67\" y=\"208.724078\"/>\r\n     <use style=\"fill:#1f77b4;stroke:#ffffff;stroke-width:0.75;\" x=\"339.353002\" xlink:href=\"#mfab3e00e67\" y=\"195.237057\"/>\r\n     <use style=\"fill:#1f77b4;stroke:#ffffff;stroke-width:0.75;\" x=\"158.406893\" xlink:href=\"#mfab3e00e67\" y=\"203.787652\"/>\r\n     <use style=\"fill:#1f77b4;stroke:#ffffff;stroke-width:0.75;\" x=\"299.142756\" xlink:href=\"#mfab3e00e67\" y=\"200.614235\"/>\r\n     <use style=\"fill:#1f77b4;stroke:#ffffff;stroke-width:0.75;\" x=\"107.797445\" xlink:href=\"#mfab3e00e67\" y=\"209.693733\"/>\r\n     <use style=\"fill:#1f77b4;stroke:#ffffff;stroke-width:0.75;\" x=\"315.088198\" xlink:href=\"#mfab3e00e67\" y=\"192.945145\"/>\r\n     <use style=\"fill:#1f77b4;stroke:#ffffff;stroke-width:0.75;\" x=\"151.474092\" xlink:href=\"#mfab3e00e67\" y=\"205.726962\"/>\r\n     <use style=\"fill:#1f77b4;stroke:#ffffff;stroke-width:0.75;\" x=\"246.453467\" xlink:href=\"#mfab3e00e67\" y=\"198.498624\"/>\r\n     <use style=\"fill:#1f77b4;stroke:#ffffff;stroke-width:0.75;\" x=\"141.76817\" xlink:href=\"#mfab3e00e67\" y=\"206.167714\"/>\r\n     <use style=\"fill:#1f77b4;stroke:#ffffff;stroke-width:0.75;\" x=\"284.583874\" xlink:href=\"#mfab3e00e67\" y=\"200.437934\"/>\r\n     <use style=\"fill:#1f77b4;stroke:#ffffff;stroke-width:0.75;\" x=\"66.893918\" xlink:href=\"#mfab3e00e67\" y=\"214.453858\"/>\r\n     <use style=\"fill:#1f77b4;stroke:#ffffff;stroke-width:0.75;\" x=\"177.818736\" xlink:href=\"#mfab3e00e67\" y=\"202.641696\"/>\r\n     <use style=\"fill:#1f77b4;stroke:#ffffff;stroke-width:0.75;\" x=\"326.87396\" xlink:href=\"#mfab3e00e67\" y=\"196.823765\"/>\r\n     <use style=\"fill:#1f77b4;stroke:#ffffff;stroke-width:0.75;\" x=\"109.184005\" xlink:href=\"#mfab3e00e67\" y=\"209.693733\"/>\r\n     <use style=\"fill:#1f77b4;stroke:#ffffff;stroke-width:0.75;\" x=\"311.621798\" xlink:href=\"#mfab3e00e67\" y=\"193.82665\"/>\r\n     <use style=\"fill:#1f77b4;stroke:#ffffff;stroke-width:0.75;\" x=\"213.176022\" xlink:href=\"#mfab3e00e67\" y=\"198.851226\"/>\r\n     <use style=\"fill:#1f77b4;stroke:#ffffff;stroke-width:0.75;\" x=\"238.134106\" xlink:href=\"#mfab3e00e67\" y=\"200.790536\"/>\r\n     <use style=\"fill:#1f77b4;stroke:#ffffff;stroke-width:0.75;\" x=\"191.684338\" xlink:href=\"#mfab3e00e67\" y=\"203.170599\"/>\r\n     <use style=\"fill:#1f77b4;stroke:#ffffff;stroke-width:0.75;\" x=\"188.217938\" xlink:href=\"#mfab3e00e67\" y=\"202.465395\"/>\r\n     <use style=\"fill:#1f77b4;stroke:#ffffff;stroke-width:0.75;\" x=\"216.642422\" xlink:href=\"#mfab3e00e67\" y=\"201.848342\"/>\r\n     <use style=\"fill:#1f77b4;stroke:#ffffff;stroke-width:0.75;\" x=\"360.844686\" xlink:href=\"#mfab3e00e67\" y=\"196.118562\"/>\r\n     <use style=\"fill:#1f77b4;stroke:#ffffff;stroke-width:0.75;\" x=\"319.941159\" xlink:href=\"#mfab3e00e67\" y=\"195.148907\"/>\r\n     <use style=\"fill:#1f77b4;stroke:#ffffff;stroke-width:0.75;\" x=\"369.164047\" xlink:href=\"#mfab3e00e67\" y=\"196.118562\"/>\r\n     <use style=\"fill:#1f77b4;stroke:#ffffff;stroke-width:0.75;\" x=\"327.567241\" xlink:href=\"#mfab3e00e67\" y=\"193.562198\"/>\r\n     <use style=\"fill:#1f77b4;stroke:#ffffff;stroke-width:0.75;\" x=\"192.377618\" xlink:href=\"#mfab3e00e67\" y=\"201.49574\"/>\r\n    </g>\r\n   </g>\r\n   <g id=\"line2d_11\">\r\n    <path clip-path=\"url(#p377c7fff16)\" d=\"M 64.814078 214.756364 \r\nL 66.893918 214.46743 \r\nL 68.280478 214.276998 \r\nL 72.440159 213.715965 \r\nL 100.171363 210.330143 \r\nL 107.797445 209.49469 \r\nL 109.184005 209.346751 \r\nL 125.129448 207.727017 \r\nL 129.289128 207.327709 \r\nL 141.76817 206.182492 \r\nL 151.474092 205.342715 \r\nL 158.406893 204.768154 \r\nL 177.818736 203.261705 \r\nL 188.217938 202.511339 \r\nL 191.684338 202.269319 \r\nL 192.377618 202.221384 \r\nL 206.936501 201.249391 \r\nL 213.176022 200.852094 \r\nL 213.869302 200.80863 \r\nL 216.642422 200.636102 \r\nL 222.881943 200.255533 \r\nL 224.961784 200.130965 \r\nL 229.814745 199.844627 \r\nL 238.134106 199.367387 \r\nL 244.373627 199.020297 \r\nL 246.453467 198.906594 \r\nL 250.613148 198.6821 \r\nL 272.798112 197.546749 \r\nL 284.583874 196.982924 \r\nL 299.142756 196.320695 \r\nL 311.621798 195.781076 \r\nL 315.088198 195.635516 \r\nL 319.941159 195.43478 \r\nL 326.18068 195.181778 \r\nL 326.87396 195.154013 \r\nL 327.567241 195.126316 \r\nL 337.966442 194.718885 \r\nL 339.353002 194.665673 \r\nL 360.844686 193.87248 \r\nL 369.164047 193.580553 \r\n\" style=\"fill:none;stroke:#1f77b4;stroke-linecap:round;stroke-width:1.5;\"/>\r\n   </g>\r\n   <g id=\"patch_3\">\r\n    <path d=\"M 49.589063 224.64 \r\nL 49.589063 7.2 \r\n\" style=\"fill:none;stroke:#ffffff;stroke-linecap:square;stroke-linejoin:miter;stroke-width:0.8;\"/>\r\n   </g>\r\n   <g id=\"patch_4\">\r\n    <path d=\"M 384.389063 224.64 \r\nL 384.389063 7.2 \r\n\" style=\"fill:none;stroke:#ffffff;stroke-linecap:square;stroke-linejoin:miter;stroke-width:0.8;\"/>\r\n   </g>\r\n   <g id=\"patch_5\">\r\n    <path d=\"M 49.589063 224.64 \r\nL 384.389063 224.64 \r\n\" style=\"fill:none;stroke:#ffffff;stroke-linecap:square;stroke-linejoin:miter;stroke-width:0.8;\"/>\r\n   </g>\r\n   <g id=\"patch_6\">\r\n    <path d=\"M 49.589063 7.2 \r\nL 384.389063 7.2 \r\n\" style=\"fill:none;stroke:#ffffff;stroke-linecap:square;stroke-linejoin:miter;stroke-width:0.8;\"/>\r\n   </g>\r\n   <g id=\"legend_1\">\r\n    <g id=\"patch_7\">\r\n     <path d=\"M 337.610938 29.345312 \r\nL 377.389063 29.345312 \r\nQ 379.389063 29.345312 379.389063 27.345312 \r\nL 379.389063 14.2 \r\nQ 379.389063 12.2 377.389063 12.2 \r\nL 337.610938 12.2 \r\nQ 335.610938 12.2 335.610938 14.2 \r\nL 335.610938 27.345312 \r\nQ 335.610938 29.345312 337.610938 29.345312 \r\nz\r\n\" style=\"fill:#eaeaf2;opacity:0.8;stroke:#cccccc;stroke-linejoin:miter;\"/>\r\n    </g>\r\n    <g id=\"line2d_12\">\r\n     <path d=\"M 339.610938 19.857812 \r\nL 359.610938 19.857812 \r\n\" style=\"fill:none;stroke:#1f77b4;stroke-linecap:round;stroke-width:1.5;\"/>\r\n    </g>\r\n    <g id=\"line2d_13\"/>\r\n    <g id=\"text_13\">\r\n     <!-- fit -->\r\n     <defs>\r\n      <path d=\"M 8.6875 0 \r\nL 8.6875 45.015625 \r\nL 0.921875 45.015625 \r\nL 0.921875 51.859375 \r\nL 8.6875 51.859375 \r\nL 8.6875 57.375 \r\nQ 8.6875 62.59375 9.625 65.140625 \r\nQ 10.890625 68.5625 14.078125 70.671875 \r\nQ 17.28125 72.796875 23.046875 72.796875 \r\nQ 26.765625 72.796875 31.25 71.921875 \r\nL 29.9375 64.265625 \r\nQ 27.203125 64.75 24.75 64.75 \r\nQ 20.75 64.75 19.09375 63.03125 \r\nQ 17.4375 61.328125 17.4375 56.640625 \r\nL 17.4375 51.859375 \r\nL 27.546875 51.859375 \r\nL 27.546875 45.015625 \r\nL 17.4375 45.015625 \r\nL 17.4375 0 \r\nz\r\n\" id=\"ArialMT-102\"/>\r\n      <path d=\"M 6.640625 61.46875 \r\nL 6.640625 71.578125 \r\nL 15.4375 71.578125 \r\nL 15.4375 61.46875 \r\nz\r\nM 6.640625 0 \r\nL 6.640625 51.859375 \r\nL 15.4375 51.859375 \r\nL 15.4375 0 \r\nz\r\n\" id=\"ArialMT-105\"/>\r\n      <path d=\"M 25.78125 7.859375 \r\nL 27.046875 0.09375 \r\nQ 23.34375 -0.6875 20.40625 -0.6875 \r\nQ 15.625 -0.6875 12.984375 0.828125 \r\nQ 10.359375 2.34375 9.28125 4.8125 \r\nQ 8.203125 7.28125 8.203125 15.1875 \r\nL 8.203125 45.015625 \r\nL 1.765625 45.015625 \r\nL 1.765625 51.859375 \r\nL 8.203125 51.859375 \r\nL 8.203125 64.703125 \r\nL 16.9375 69.96875 \r\nL 16.9375 51.859375 \r\nL 25.78125 51.859375 \r\nL 25.78125 45.015625 \r\nL 16.9375 45.015625 \r\nL 16.9375 14.703125 \r\nQ 16.9375 10.9375 17.40625 9.859375 \r\nQ 17.875 8.796875 18.921875 8.15625 \r\nQ 19.96875 7.515625 21.921875 7.515625 \r\nQ 23.390625 7.515625 25.78125 7.859375 \r\nz\r\n\" id=\"ArialMT-116\"/>\r\n     </defs>\r\n     <g style=\"fill:#262626;\" transform=\"translate(367.610938 23.357812)scale(0.1 -0.1)\">\r\n      <use xlink:href=\"#ArialMT-102\"/>\r\n      <use x=\"27.783203\" xlink:href=\"#ArialMT-105\"/>\r\n      <use x=\"50\" xlink:href=\"#ArialMT-116\"/>\r\n     </g>\r\n    </g>\r\n   </g>\r\n  </g>\r\n </g>\r\n <defs>\r\n  <clipPath id=\"p377c7fff16\">\r\n   <rect height=\"217.44\" width=\"334.8\" x=\"49.589063\" y=\"7.2\"/>\r\n  </clipPath>\r\n </defs>\r\n</svg>\r\n",
      "image/png": "[encoded data removed]"
     },
     "metadata": {}
    }
   ],
   "source": [
    "# creating line/scatter plot\n",
    "sns.set_style('darkgrid')\n",
    "ax_ = sns.scatterplot(data=salmon_data,x='S',y='R')\n",
    "ax_ = sns.lineplot(x=salmon_data['S'].values,y=R_fit,label='fit',)\n"
   ]
  },
  {
   "cell_type": "code",
   "execution_count": 26,
   "metadata": {},
   "outputs": [
    {
     "output_type": "stream",
     "name": "stdout",
     "text": "OLS Regression Results                            \n==============================================================================\nDep. Variable:                      y   R-squared:                       0.957\nModel:                            OLS   Adj. R-squared:                  0.955\nMethod:                 Least Squares   F-statistic:                     836.6\nDate:                Mon, 13 Apr 2020   Prob (F-statistic):           1.74e-27\nTime:                        20:58:26   Log-Likelihood:                 233.94\nNo. Observations:                  40   AIC:                            -463.9\nDf Residuals:                      38   BIC:                            -460.5\nDf Model:                           1                                         \nCovariance Type:            nonrobust                                         \n==============================================================================\n                 coef    std err          t      P>|t|      [0.025      0.975]\n------------------------------------------------------------------------------\nconst          0.0018      0.000     10.550      0.000       0.001       0.002\nx1             0.7081      0.024     28.925      0.000       0.659       0.758\n==============================================================================\nOmnibus:                       69.138   Durbin-Watson:                   2.137\nProb(Omnibus):                  0.000   Jarque-Bera (JB):              821.683\nSkew:                          -4.094   Prob(JB):                    3.75e-179\nKurtosis:                      23.639   Cond. No.                         216.\n==============================================================================\n\nWarnings:\n[1] Standard Errors assume that the covariance matrix of the errors is correctly specified.\n"
    }
   ],
   "source": [
    "print(lm_1_results.summary())"
   ]
  },
  {
   "cell_type": "code",
   "execution_count": 59,
   "metadata": {},
   "outputs": [
    {
     "output_type": "stream",
     "name": "stdout",
     "text": "\\begin{center}\n\\begin{tabular}{lclc}\n\\toprule\n\\textbf{Dep. Variable:}    &        y         & \\textbf{  R-squared:         } &     0.957   \\\\\n\\textbf{Model:}            &       OLS        & \\textbf{  Adj. R-squared:    } &     0.955   \\\\\n\\textbf{Method:}           &  Least Squares   & \\textbf{  F-statistic:       } &     836.6   \\\\\n\\textbf{Date:}             & Mon, 13 Apr 2020 & \\textbf{  Prob (F-statistic):} &  1.74e-27   \\\\\n\\textbf{Time:}             &     21:16:00     & \\textbf{  Log-Likelihood:    } &    233.94   \\\\\n\\textbf{No. Observations:} &          40      & \\textbf{  AIC:               } &    -463.9   \\\\\n\\textbf{Df Residuals:}     &          38      & \\textbf{  BIC:               } &    -460.5   \\\\\n\\textbf{Df Model:}         &           1      & \\textbf{                     } &             \\\\\n\\bottomrule\n\\end{tabular}\n\\begin{tabular}{lcccccc}\n               & \\textbf{coef} & \\textbf{std err} & \\textbf{t} & \\textbf{P$> |$t$|$} & \\textbf{[0.025} & \\textbf{0.975]}  \\\\\n\\midrule\n\\textbf{const} &       0.0018  &        0.000     &    10.550  &         0.000        &        0.001    &        0.002     \\\\\n\\textbf{x1}    &       0.7081  &        0.024     &    28.925  &         0.000        &        0.659    &        0.758     \\\\\n\\bottomrule\n\\end{tabular}\n\\begin{tabular}{lclc}\n\\textbf{Omnibus:}       & 69.138 & \\textbf{  Durbin-Watson:     } &     2.137  \\\\\n\\textbf{Prob(Omnibus):} &  0.000 & \\textbf{  Jarque-Bera (JB):  } &   821.683  \\\\\n\\textbf{Skew:}          & -4.094 & \\textbf{  Prob(JB):          } & 3.75e-179  \\\\\n\\textbf{Kurtosis:}      & 23.639 & \\textbf{  Cond. No.          } &      216.  \\\\\n\\bottomrule\n\\end{tabular}\n%\\caption{OLS Regression Results}\n\\end{center}\n\nWarnings: \\newline\n [1] Standard Errors assume that the covariance matrix of the errors is correctly specified.\n"
    }
   ],
   "source": [
    "print(lm_1_results.summary().as_latex())"
   ]
  },
  {
   "cell_type": "code",
   "execution_count": 60,
   "metadata": {},
   "outputs": [
    {
     "output_type": "execute_result",
     "data": {
      "text/plain": "array([ 2.14459247e-04, -2.80718181e-04, -9.33826426e-05,  1.60820406e-04,\n        6.44171433e-05, -1.67478566e-05, -4.43197744e-04, -9.32065429e-05,\n       -1.06111016e-04, -3.86316177e-03,  6.40491436e-04,  5.20414936e-04,\n        1.61014126e-04, -1.22708176e-04,  7.06488868e-04,  8.11722446e-04,\n        7.80274037e-05, -3.34499065e-04,  7.97345789e-04,  1.51398565e-04,\n       -3.49885282e-04,  1.54139204e-04, -7.66797732e-05, -6.47403729e-06,\n        6.53961108e-04, -3.43765152e-05, -1.80406033e-04,  2.48106493e-04,\n        2.60380440e-04, -2.64174639e-04, -4.20357968e-04,  3.05374052e-04,\n        2.55488734e-04, -1.26802900e-05,  2.92669698e-04,  3.08356101e-04,\n       -4.01022874e-05,  3.44635312e-04, -2.03899558e-04, -1.86942134e-04])"
     },
     "metadata": {},
     "execution_count": 60
    }
   ],
   "source": [
    "lm_1_results.resid"
   ]
  },
  {
   "cell_type": "code",
   "execution_count": 61,
   "metadata": {},
   "outputs": [
    {
     "output_type": "error",
     "ename": "SyntaxError",
     "evalue": "invalid syntax (<ipython-input-61-d375fb72b915>, line 1)",
     "traceback": [
      "\u001b[1;36m  File \u001b[1;32m\"<ipython-input-61-d375fb72b915>\"\u001b[1;36m, line \u001b[1;32m1\u001b[0m\n\u001b[1;33m    np.random.choice/\u001b[0m\n\u001b[1;37m                     ^\u001b[0m\n\u001b[1;31mSyntaxError\u001b[0m\u001b[1;31m:\u001b[0m invalid syntax\n"
     ]
    }
   ],
   "source": [
    "np.random.choice/"
   ]
  },
  {
   "cell_type": "code",
   "execution_count": null,
   "metadata": {},
   "outputs": [],
   "source": []
  }
 ]
}